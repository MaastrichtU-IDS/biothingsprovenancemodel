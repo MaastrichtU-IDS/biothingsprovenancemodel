{
 "cells": [
  {
   "cell_type": "code",
   "execution_count": 1,
   "metadata": {},
   "outputs": [],
   "source": [
    "# import the urllib library used to query a website\n",
    "from urllib.request import urlopen\n",
    "import json\n",
    "import csv\n",
    "\n",
    "# get URL of the JSON metadata for a WikiData entity\n",
    "def getWikiDataEntityJSONURL(entityID):\n",
    "    return \"https://www.wikidata.org/w/api.php?action=wbgetentities&ids=\" + str(entityID) + \"&format=json\"\n",
    "    \n",
    "# WikiData entity ID array\n",
    "wikidata_entityids = []\n",
    "\n",
    "# urlprefix\n",
    "wikidataentity_urlprefix = \"http://www.wikidata.org/entity/\"\n",
    "\n",
    "# open file with list of WikiData entity IDs (list of all chemical compounds in WikiData) \n",
    "with open('wikidata_chemicalcompounds_test.csv') as csvfile:\n",
    "    reader = csv.DictReader(csvfile)\n",
    "    for row in reader:\n",
    "        entityURL = row['item']\n",
    "        entityID = entityURL.replace(wikidataentity_urlprefix, \"\")\n",
    "        wikidata_entityids.append(entityID)\n",
    "\n",
    "# for each WikiData entity ID\n",
    "for entityID in wikidata_entityids:\n",
    "    wikidataentity_jsonurl = getWikiDataEntityJSONURL(entityID)\n",
    "    # open the page\n",
    "    wikidataentity_jsonpage = urlopen(wikidataentity_jsonurl)\n",
    "    # write to JSON on the page to file\n",
    "    jsondata = json.loads(wikidataentity_jsonpage.read())\n",
    "    with open('WikiData/' + str(entityID) + '.json', 'w') as outfile:\n",
    "        json.dump(jsondata, outfile)\n",
    "    "
   ]
  },
  {
   "cell_type": "code",
   "execution_count": null,
   "metadata": {},
   "outputs": [],
   "source": []
  },
  {
   "cell_type": "code",
   "execution_count": null,
   "metadata": {},
   "outputs": [],
   "source": []
  }
 ],
 "metadata": {
  "kernelspec": {
   "display_name": "Python 3",
   "language": "python",
   "name": "python3"
  },
  "language_info": {
   "codemirror_mode": {
    "name": "ipython",
    "version": 3
   },
   "file_extension": ".py",
   "mimetype": "text/x-python",
   "name": "python",
   "nbconvert_exporter": "python",
   "pygments_lexer": "ipython3",
   "version": "3.6.4"
  }
 },
 "nbformat": 4,
 "nbformat_minor": 2
}
